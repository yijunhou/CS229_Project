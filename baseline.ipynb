{
  "nbformat": 4,
  "nbformat_minor": 0,
  "metadata": {
    "colab": {
      "name": "baseline.ipynb",
      "provenance": [],
      "collapsed_sections": [],
      "authorship_tag": "ABX9TyMq86Zq2cnupjHXTYQ9k7dh",
      "include_colab_link": true
    },
    "kernelspec": {
      "name": "python3",
      "display_name": "Python 3"
    },
    "language_info": {
      "name": "python"
    }
  },
  "cells": [
    {
      "cell_type": "markdown",
      "metadata": {
        "id": "view-in-github",
        "colab_type": "text"
      },
      "source": [
        "<a href=\"https://colab.research.google.com/github/yijunhou/CS229_Project/blob/main/baseline.ipynb\" target=\"_parent\"><img src=\"https://colab.research.google.com/assets/colab-badge.svg\" alt=\"Open In Colab\"/></a>"
      ]
    },
    {
      "cell_type": "code",
      "metadata": {
        "id": "WC2JWEwb9oZW"
      },
      "source": [
        "import numpy as np\n",
        "from sklearn.linear_model import LogisticRegression\n",
        "from sklearn.model_selection import train_test_split\n",
        "from sklearn.ensemble import RandomForestClassifier\n",
        "from sklearn import svm\n",
        "import csv\n",
        "import math\n",
        "from collections import Counter\n",
        "import pandas as pd\n",
        "from tqdm import tqdm\n"
      ],
      "execution_count": null,
      "outputs": []
    },
    {
      "cell_type": "code",
      "metadata": {
        "colab": {
          "base_uri": "https://localhost:8080/"
        },
        "id": "MvOTVYIc_2tQ",
        "outputId": "47a6fd73-7619-48be-a18e-7cb26e4e9048"
      },
      "source": [
        "from google.colab import drive\n",
        "drive.mount('/content/gdrive')"
      ],
      "execution_count": null,
      "outputs": [
        {
          "output_type": "stream",
          "name": "stdout",
          "text": [
            "Drive already mounted at /content/gdrive; to attempt to forcibly remount, call drive.mount(\"/content/gdrive\", force_remount=True).\n"
          ]
        }
      ]
    },
    {
      "cell_type": "code",
      "metadata": {
        "id": "LK_OgY6beX2I"
      },
      "source": [
        "composer_lookup = {\"Beethoven\":0,\"Schubert\":1,\"Brahms\":2,\"Mozart\":3,\"Bach\":4,\"Dvorak\":5,\"Cambini\":6,\"Faure\":7,\"Ravel\":8,\"Haydn\":9}\n",
        "sr = 44100\n",
        "fs = 44100\n",
        "chunk_size, chunk_seconds = 10, 10"
      ],
      "execution_count": null,
      "outputs": []
    },
    {
      "cell_type": "code",
      "metadata": {
        "id": "UvycQtrA_7Fi"
      },
      "source": [
        "train_data = np.load('/content/gdrive/My Drive/CS229/project/Data/musicnet.npz', encoding='bytes', allow_pickle=True)\n",
        "y_train_path = '/content/gdrive/My Drive/CS229/project/Data/ytrnew_' + str(sr) + '_' + str(chunk_seconds) + '.npy'\n",
        "x_train_path = '/content/gdrive/My Drive/CS229/project/Data/xtrnew_' + str(sr) + '_' + str(chunk_seconds) + '.npy'\n",
        "y_test_path = '/content/gdrive/My Drive/CS229/project/Data/ytenew_' + str(sr) + '_' + str(chunk_seconds) + '.npy'\n",
        "x_test_path = '/content/gdrive/My Drive/CS229/project/Data/xtenew_' + str(sr) + '_' + str(chunk_seconds) + '.npy'"
      ],
      "execution_count": null,
      "outputs": []
    },
    {
      "cell_type": "code",
      "metadata": {
        "id": "_74sbgBBATlJ"
      },
      "source": [
        "def generate_composer_map():\n",
        "  composer_map = {}\n",
        "  with open('/content/gdrive/My Drive/CS229/project/Data/musicnet_metadata.csv', 'r' ) as metadata_file:\n",
        "    reader = csv.DictReader(metadata_file)\n",
        "    for line in reader:\n",
        "      composer_map[line['id']] = line['composer']\n",
        "  return composer_map"
      ],
      "execution_count": null,
      "outputs": []
    },
    {
      "cell_type": "code",
      "metadata": {
        "id": "L5JwRp9AxoIE"
      },
      "source": [
        "df = pd.read_csv('/content/gdrive/My Drive/CS229/project/Data/data_file.csv')"
      ],
      "execution_count": null,
      "outputs": []
    },
    {
      "cell_type": "code",
      "metadata": {
        "colab": {
          "base_uri": "https://localhost:8080/"
        },
        "id": "kFvp_scSyDER",
        "outputId": "04adeb7e-542e-4666-b040-9e5aeb0e439a"
      },
      "source": [
        "x_train = np.load(x_train_path)\n",
        "y_train = np.load(y_train_path)\n",
        "x_rest = np.load(x_test_path)\n",
        "y_rest = np.load(y_test_path)\n",
        "\n",
        "x_validation, x_test, y_validation, y_test = train_test_split(x_rest, y_rest, test_size = 0.5, \n",
        "                                                   random_state = 42, stratify = y_rest)\n",
        "\n",
        "print(x_train.shape, x_validation.shape, x_test.shape)"
      ],
      "execution_count": null,
      "outputs": [
        {
          "output_type": "stream",
          "name": "stdout",
          "text": [
            "(4000, 40, 1000, 1) (500, 40, 1000, 1) (501, 40, 1000, 1)\n"
          ]
        }
      ]
    },
    {
      "cell_type": "code",
      "metadata": {
        "colab": {
          "base_uri": "https://localhost:8080/"
        },
        "id": "Jb7WNQ6fyeOO",
        "outputId": "fc424f7a-6778-4fa3-98af-580a677c5b57"
      },
      "source": [
        "x_train = x_train.reshape(x_train.shape[0], -1)\n",
        "x_validation = x_validation.reshape(x_validation.shape[0], -1)\n",
        "x_test = x_test.reshape(x_test.shape[0], -1)\n",
        "print(x_train.shape, x_validation.shape, x_test.shape)"
      ],
      "execution_count": null,
      "outputs": [
        {
          "output_type": "stream",
          "name": "stdout",
          "text": [
            "(4000, 40000) (500, 40000) (501, 40000)\n"
          ]
        }
      ]
    },
    {
      "cell_type": "code",
      "metadata": {
        "colab": {
          "base_uri": "https://localhost:8080/"
        },
        "id": "5jCQ4TEV757P",
        "outputId": "c058232e-3ecc-427b-b2bc-9f57bf267309"
      },
      "source": [
        "y_train = [np.where(r==1)[0][0] for r in y_train]\n",
        "y_validation = [np.where(r==1)[0][0] for r in y_validation]\n",
        "y_test = [np.where(r==1)[0][0] for r in y_test]\n",
        "\n",
        "print(len(y_train), len(y_validation), len(y_test))"
      ],
      "execution_count": null,
      "outputs": [
        {
          "output_type": "stream",
          "name": "stdout",
          "text": [
            "4000 500 501\n"
          ]
        }
      ]
    },
    {
      "cell_type": "markdown",
      "metadata": {
        "id": "XonkcAPvL8pu"
      },
      "source": [
        "## **Random Forest**"
      ]
    },
    {
      "cell_type": "code",
      "metadata": {
        "id": "ViUCGkLiMHnf"
      },
      "source": [
        "model_rf = RandomForestClassifier(random_state=0, max_depth = 10).fit(x_train, y_train)"
      ],
      "execution_count": null,
      "outputs": []
    },
    {
      "cell_type": "code",
      "metadata": {
        "colab": {
          "base_uri": "https://localhost:8080/"
        },
        "id": "YZF4g8nWMdW2",
        "outputId": "c0c2ab0c-16a0-48b6-a842-e57aaf63f1c3"
      },
      "source": [
        "print(model_rf.score(x_train, y_train))\n",
        "print(Counter(y_train - model_rf.predict(x_train)))\n",
        "# y_predict_30 = model_rf.predict(x_test_30)\n",
        "print(model_rf.score(x_test, y_test))\n",
        "print(model_rf.score(x_validation, y_validation))"
      ],
      "execution_count": null,
      "outputs": [
        {
          "output_type": "stream",
          "name": "stdout",
          "text": [
            "0.70275\n",
            "Counter({0: 2811, 1: 366, 4: 303, 3: 264, 2: 114, 5: 63, 8: 61, 9: 18})\n",
            "0.48902195608782434\n",
            "0.496\n"
          ]
        }
      ]
    },
    {
      "cell_type": "markdown",
      "metadata": {
        "id": "VowyMgpNRPkX"
      },
      "source": [
        "# **SVM**"
      ]
    },
    {
      "cell_type": "code",
      "metadata": {
        "id": "NZ_rWyc4Q8vd"
      },
      "source": [
        "model_svm = svm.SVC(random_state=42).fit(x_train,y_train)"
      ],
      "execution_count": null,
      "outputs": []
    },
    {
      "cell_type": "code",
      "metadata": {
        "colab": {
          "base_uri": "https://localhost:8080/"
        },
        "id": "03Mq6Xj0RGXo",
        "outputId": "d593bbe0-fa67-4637-c887-ff7d8210d6cf"
      },
      "source": [
        "print(model_svm.score(x_train, y_train))\n",
        "print(Counter(y_train - model_svm.predict(x_train)))\n",
        "# y_predict_30 = svm_30.predict(x_test_30)\n",
        "print(model_svm.score(x_validation, y_validation))\n",
        "print(model_svm.score(x_test, y_test))"
      ],
      "execution_count": null,
      "outputs": [
        {
          "output_type": "stream",
          "name": "stdout",
          "text": [
            "0.51575\n",
            "Counter({0: 2063, 2: 542, 1: 491, 3: 433, 4: 324, 5: 63, 8: 60, 9: 18, 6: 4, -2: 2})\n",
            "0.5\n",
            "0.5049900199600799\n"
          ]
        }
      ]
    }
  ]
}